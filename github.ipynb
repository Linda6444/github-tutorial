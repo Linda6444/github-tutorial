{
 "cells": [
  {
   "cell_type": "markdown",
   "id": "9db696e1",
   "metadata": {},
   "source": [
    "# Git & Github\n"
   ]
  },
  {
   "cell_type": "markdown",
   "id": "862a9f9a",
   "metadata": {},
   "source": [
    "Kommando att kunna:\n",
    "\n",
    "- git add .  = lägger till alla filer för att sparas\n",
    "\n",
    "- git commit -m \"kommentar\" = sparar projektet i en snapshot\n",
    "\n",
    "- git push = lägger till våran snapshot på github\n",
    "\n"
   ]
  },
  {
   "cell_type": "code",
   "execution_count": 1,
   "id": "e90aa389",
   "metadata": {},
   "outputs": [
    {
     "name": "stdout",
     "output_type": "stream",
     "text": [
      "Hello world\n"
     ]
    }
   ],
   "source": [
    "print(\"Hello world\")"
   ]
  },
  {
   "cell_type": "markdown",
   "id": "9865c635",
   "metadata": {},
   "source": [
    "något mer..."
   ]
  }
 ],
 "metadata": {
  "kernelspec": {
   "display_name": ".venv",
   "language": "python",
   "name": "python3"
  },
  "language_info": {
   "codemirror_mode": {
    "name": "ipython",
    "version": 3
   },
   "file_extension": ".py",
   "mimetype": "text/x-python",
   "name": "python",
   "nbconvert_exporter": "python",
   "pygments_lexer": "ipython3",
   "version": "3.13.7"
  }
 },
 "nbformat": 4,
 "nbformat_minor": 5
}
