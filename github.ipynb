{
 "cells": [
  {
   "cell_type": "markdown",
   "id": "9db696e1",
   "metadata": {},
   "source": [
    "# Git och Github\n"
   ]
  },
  {
   "cell_type": "markdown",
   "id": "862a9f9a",
   "metadata": {},
   "source": [
    "Kommando:\n",
    "\n",
    "- git add .  = lägger till alla filer för att sparas\n",
    "\n",
    "- git commit -m \"kommentar\" = sparar projektet i en snapshot"
   ]
  }
 ],
 "metadata": {
  "language_info": {
   "name": "python"
  }
 },
 "nbformat": 4,
 "nbformat_minor": 5
}
